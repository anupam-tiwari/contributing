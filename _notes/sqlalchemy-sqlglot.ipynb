{
 "cells": [
  {
   "cell_type": "markdown",
   "id": "b08badee-4382-4670-a3a4-81c6799a62dc",
   "metadata": {},
   "source": [
    "# Generating SQL: SQLAlchemy vs SQLGlot"
   ]
  },
  {
   "cell_type": "markdown",
   "id": "6365f662-c902-4169-b519-5e1bde1e61b4",
   "metadata": {},
   "source": [
    "- 1.4 func docs: https://docs.sqlalchemy.org/en/14/core/functions.html\n",
    "- 1.4 func tutorial: https://docs.sqlalchemy.org/en/14/tutorial/data_select.html#tutorial-functions\n",
    "- dialects: https://docs.sqlalchemy.org/en/20/dialects/\n",
    "- dialect load https://stackoverflow.com/questions/53284762/nosuchmoduleerror-cant-load-plugin-sqlalchemy-dialectssnowflake\n",
    "\n",
    "\n",
    "SQAlchemy pros:\n",
    "\n",
    "- already a dependency so no need to add a new one\n",
    "- better sql manipulation for composing queries (since it's a Python API) than using jinja2\n",
    "\n",
    "sqlalchemy cons:\n",
    "\n",
    "- recently released sqlalchemy 2.0 breaks the API. since many people haven't upgraded, we'll have to support 1.4 and 2.0\n",
    "- harder to contribute (contributors need to learn sqlalchemy)\n",
    "- need to declare column types manually (not sure about this one, maybe it isn't needed)\n",
    "- complex data types (such as arrays) not supported\n",
    "\n",
    "sqlglot pros:\n",
    "\n",
    "- supports complex data types (such as arrays) - although we have to add some tests to ensure it produces valid SQL\n",
    "\n",
    "sqlglot cons:\n",
    "\n",
    "- we need to add an extra dependency (although we could drop sqlparse in favor of sqlglot)\n",
    "\n",
    "\n",
    "conclusion: use sqlglot"
   ]
  },
  {
   "cell_type": "code",
   "execution_count": 19,
   "id": "65edf8ea-f88e-4a7c-878d-c4ff98fa7271",
   "metadata": {},
   "outputs": [
    {
     "data": {
      "text/plain": [
       "'1.4.46'"
      ]
     },
     "execution_count": 19,
     "metadata": {},
     "output_type": "execute_result"
    }
   ],
   "source": [
    "import sqlalchemy as db\n",
    "from sqlalchemy import select, func\n",
    "from sqlalchemy.dialects import postgresql, oracle, sqlite, mysql\n",
    "\n",
    "db.__version__"
   ]
  },
  {
   "cell_type": "markdown",
   "id": "26ed9ea3-80f1-4de8-b350-531819e7e7a9",
   "metadata": {},
   "source": [
    "Step 1. create a tabe object"
   ]
  },
  {
   "cell_type": "code",
   "execution_count": 4,
   "id": "3e68add6-3032-4fbe-9cc3-55cd45fabd2a",
   "metadata": {},
   "outputs": [],
   "source": [
    "t = db.Table(\"a\", db.MetaData(), db.Column('y', db.Integer), db.Column('x', db.Integer))"
   ]
  },
  {
   "cell_type": "markdown",
   "id": "78bd1525-c7a6-4b43-a8e6-dc6e407da92a",
   "metadata": {},
   "source": [
    "to generate sql, call `table.select`"
   ]
  },
  {
   "cell_type": "code",
   "execution_count": 20,
   "id": "9db1ebcd-12d9-4b50-a6d5-a59154eeeeb9",
   "metadata": {},
   "outputs": [
    {
     "name": "stdout",
     "output_type": "stream",
     "text": [
      "SELECT a.y, a.x \n",
      "FROM a \n",
      "WHERE a.y AND a.y = :y_1 GROUP BY a.y\n"
     ]
    }
   ],
   "source": [
    "print(t.select(t.columns.y).where(t.columns.y == 2).group_by(t.columns.y))"
   ]
  },
  {
   "cell_type": "markdown",
   "id": "47ab7946-81a7-45c3-9f89-b9c216911474",
   "metadata": {},
   "source": [
    "we can also call `sqlalchemy.select` (unsure what the difference is):"
   ]
  },
  {
   "cell_type": "code",
   "execution_count": 21,
   "id": "ff6bf2ca-35bf-423b-aa05-9ed019ab365d",
   "metadata": {},
   "outputs": [
    {
     "name": "stdout",
     "output_type": "stream",
     "text": [
      "SELECT a.y, sum(a.x) AS sum_1 \n",
      "FROM a \n",
      "WHERE a.y = :y_1 GROUP BY a.y\n"
     ]
    }
   ],
   "source": [
    "print(db.select(t.columns.y, db.func.sum(t.columns.x)).where(t.columns.y == 1).group_by(t.columns.y))"
   ]
  },
  {
   "cell_type": "markdown",
   "id": "ce82b397-cd4e-4ace-91ab-6152754f9710",
   "metadata": {
    "tags": []
   },
   "source": [
    "more info on generating sql here: https://stackoverflow.com/a/23835766/709975\n",
    "\n",
    "sql alchemy only translates basic functions depending on the dialect, e.g., it'll call the right function to get the current timestamp.\n",
    "\n",
    "it also applies the right column/table name identifier (double quotes vs backticks):"
   ]
  },
  {
   "cell_type": "code",
   "execution_count": 26,
   "id": "4bd16d39-a5cd-4642-9cbb-7de618b61a4b",
   "metadata": {
    "tags": []
   },
   "outputs": [
    {
     "name": "stdout",
     "output_type": "stream",
     "text": [
      "SELECT a.y AS \"some thing\", percentile_disc(0.25) WITHIN GROUP (ORDER BY a.y) AS anon_1, now() AS now_1 \n",
      "FROM a\n"
     ]
    }
   ],
   "source": [
    "q = select(t.columns.y.label(\"some thing\"), func.percentile_disc(0.25).within_group(t.columns.y), func.now())\n",
    "\n",
    "print(q.compile(dialect=postgresql.dialect(), compile_kwargs={\"literal_binds\": True}))"
   ]
  },
  {
   "cell_type": "code",
   "execution_count": 27,
   "id": "307c1c9c-1a98-47d7-9aa1-b7b2b1fb961a",
   "metadata": {
    "tags": []
   },
   "outputs": [
    {
     "name": "stdout",
     "output_type": "stream",
     "text": [
      "SELECT a.y AS `some thing`, percentile_disc(0.25) WITHIN GROUP (ORDER BY a.y) AS anon_1, now() AS now_1 \n",
      "FROM a\n"
     ]
    }
   ],
   "source": [
    "print(q.compile(dialect=mysql.dialect(), compile_kwargs={\"literal_binds\": True}))"
   ]
  },
  {
   "cell_type": "code",
   "execution_count": 28,
   "id": "ec0d0c2e-a663-43b9-aa4c-248c1775d430",
   "metadata": {
    "tags": []
   },
   "outputs": [
    {
     "name": "stdout",
     "output_type": "stream",
     "text": [
      "SELECT a.y AS \"some thing\", percentile_disc(0.25) WITHIN GROUP (ORDER BY a.y) AS anon_1, CURRENT_TIMESTAMP AS now_1 \n",
      "FROM a\n"
     ]
    }
   ],
   "source": [
    "print(q.compile(dialect=oracle.dialect(), compile_kwargs={\"literal_binds\": True}))"
   ]
  },
  {
   "cell_type": "markdown",
   "id": "a63256f7-a289-452e-890a-4756e6427c06",
   "metadata": {},
   "source": [
    "we can also pass engine objects:"
   ]
  },
  {
   "cell_type": "code",
   "execution_count": 30,
   "id": "eafb3768-e0ba-43c8-9bbd-15f33185bf0d",
   "metadata": {
    "tags": []
   },
   "outputs": [],
   "source": [
    "engine = db.create_engine(\"duckdb://\")"
   ]
  },
  {
   "cell_type": "code",
   "execution_count": 32,
   "id": "daf5244f-1bdf-4a15-9c57-1230f40b9bf9",
   "metadata": {
    "tags": []
   },
   "outputs": [
    {
     "name": "stdout",
     "output_type": "stream",
     "text": [
      "SELECT a.y AS \"some thing\", percentile_disc(0.25) WITHIN GROUP (ORDER BY a.y) AS anon_1, now() AS now_1 \n",
      "FROM a\n"
     ]
    }
   ],
   "source": [
    "print(q.compile(engine, compile_kwargs={\"literal_binds\": True}))"
   ]
  },
  {
   "cell_type": "markdown",
   "id": "81731444-8fb4-435e-82d7-a2ec8c402f58",
   "metadata": {},
   "source": [
    "problem! it requires manually declaration of data types:"
   ]
  },
  {
   "cell_type": "code",
   "execution_count": 33,
   "id": "9fa99895-c879-4960-a40a-41737d54dd8d",
   "metadata": {
    "tags": []
   },
   "outputs": [
    {
     "name": "stdout",
     "output_type": "stream",
     "text": [
      "No literal value renderer is available for literal value \"[0.25, 0.5]\" with datatype NULL\n"
     ]
    }
   ],
   "source": [
    "q = select(t.columns.y.label(\"some thing\"), func.percentile_disc([0.25, 0.5]).within_group(t.columns.y), func.now())\n",
    "try:\n",
    "    q.compile(compile_kwargs={\"literal_binds\": True})\n",
    "except Exception as e:\n",
    "    print(e)"
   ]
  },
  {
   "cell_type": "markdown",
   "id": "d238435d-7749-48ff-8c09-c327329d8e40",
   "metadata": {},
   "source": [
    "also, I couldn't find an API to load plugins:"
   ]
  },
  {
   "cell_type": "code",
   "execution_count": 26,
   "id": "40e8533b-4578-4b05-9cf0-a1664691b6f0",
   "metadata": {
    "tags": []
   },
   "outputs": [],
   "source": [
    "from sqlalchemy.dialects import plugins"
   ]
  },
  {
   "cell_type": "code",
   "execution_count": 34,
   "id": "fe9f2ada-4062-44f1-b8ce-618b839fcd27",
   "metadata": {
    "tags": []
   },
   "outputs": [
    {
     "name": "stdout",
     "output_type": "stream",
     "text": [
      "name 'plugins' is not defined\n"
     ]
    }
   ],
   "source": [
    "try:\n",
    "    plugins.load(\"snowflake\")\n",
    "except Exception as e:\n",
    "    print(e)"
   ]
  },
  {
   "cell_type": "code",
   "execution_count": 38,
   "id": "4c0723d6-6506-497b-bae1-f981c4737990",
   "metadata": {
    "tags": []
   },
   "outputs": [],
   "source": [
    "from sqlalchemy.dialects import registry\n",
    "\n",
    "# found this on stack overflow\n",
    "registry.register('snowflake', 'snowflake.sqlalchemy', 'dialect')\n",
    "snowflake = registry.impls[\"snowflake\"]()()"
   ]
  },
  {
   "cell_type": "markdown",
   "id": "4072cac4-833b-42ec-9a05-2fe244615a15",
   "metadata": {},
   "source": [
    "we can also load them directly but this might depend on the package structure ?"
   ]
  },
  {
   "cell_type": "code",
   "execution_count": 39,
   "id": "a545ec3a-f607-4409-9af2-ec070f05929b",
   "metadata": {
    "tags": []
   },
   "outputs": [],
   "source": [
    "from duckdb_engine import Dialect\n",
    "duckdb = Dialect()"
   ]
  },
  {
   "cell_type": "code",
   "execution_count": 40,
   "id": "32491a64-faa5-420b-8764-98259f44c6f5",
   "metadata": {
    "tags": []
   },
   "outputs": [
    {
     "name": "stdout",
     "output_type": "stream",
     "text": [
      "SELECT now() AS now_1\n"
     ]
    }
   ],
   "source": [
    "print(select(func.now()).compile(dialect=snowflake))"
   ]
  },
  {
   "cell_type": "code",
   "execution_count": 41,
   "id": "bad55661-b2fc-440b-8117-11cbf9bae5a1",
   "metadata": {
    "tags": []
   },
   "outputs": [
    {
     "name": "stdout",
     "output_type": "stream",
     "text": [
      "SELECT now() AS now_1\n"
     ]
    }
   ],
   "source": [
    "print(select(func.now()).compile(dialect=duckdb))"
   ]
  },
  {
   "cell_type": "markdown",
   "id": "9126096f-b455-4d31-b62f-d2b3f9b1723e",
   "metadata": {},
   "source": [
    "## using sqlglot"
   ]
  },
  {
   "cell_type": "code",
   "execution_count": 2,
   "id": "9508fe1a-3a4c-428f-90ef-1bd6975f3a56",
   "metadata": {},
   "outputs": [
    {
     "name": "stdout",
     "output_type": "stream",
     "text": [
      "SELECT PERCENTILE_DISC(0.25) WITHIN GROUP (ORDER BY `somecolumn`) AS q1, PERCENTILE_DISC(0.50) WITHIN GROUP (ORDER BY `somecolumn`) AS med, PERCENTILE_DISC(0.75) WITHIN GROUP (ORDER BY `somecolumn`) AS q3, AVG(`somecolumn`) AS mean, COUNT(*) AS N FROM `sometable`\n"
     ]
    }
   ],
   "source": [
    "import sqlglot\n",
    "\n",
    "query = \"\"\"\n",
    "\n",
    "SELECT\n",
    "percentile_disc(0.25) WITHIN GROUP (ORDER BY \"somecolumn\") AS q1,\n",
    "percentile_disc(0.50) WITHIN GROUP (ORDER BY \"somecolumn\") AS med,\n",
    "percentile_disc(0.75) WITHIN GROUP (ORDER BY \"somecolumn\") AS q3,\n",
    "AVG(\"somecolumn\") AS mean,\n",
    "COUNT(*) AS N\n",
    "FROM \"sometable\"\n",
    "\"\"\"\n",
    "\n",
    "print(sqlglot.transpile(query, read=\"duckdb\", write=\"mysql\")[0])"
   ]
  },
  {
   "cell_type": "markdown",
   "id": "3ab7ad3a-35b0-4329-8734-989c2dbc4353",
   "metadata": {},
   "source": [
    "data types supported, is this correct?"
   ]
  },
  {
   "cell_type": "code",
   "execution_count": 3,
   "id": "0f156b96-ded7-461f-aa3d-346853fdd60b",
   "metadata": {
    "tags": []
   },
   "outputs": [
    {
     "name": "stdout",
     "output_type": "stream",
     "text": [
      "SELECT PERCENTILE_DISC(ARRAY(0.25, 0.5, 0.75)) WITHIN GROUP (ORDER BY `somecolumn`) FROM `sometable`\n"
     ]
    }
   ],
   "source": [
    "query = \"\"\"\n",
    "\n",
    "SELECT\n",
    "percentile_disc([0.25, 0.5, 0.75]) WITHIN GROUP (ORDER BY \"somecolumn\")\n",
    "FROM \"sometable\"\n",
    "\"\"\"\n",
    "\n",
    "# percentile disk doesn't exist on mysql\n",
    "print(sqlglot.transpile(query, read=\"duckdb\", write=\"mysql\")[0])"
   ]
  }
 ],
 "metadata": {
  "kernelspec": {
   "display_name": "Python 3 (ipykernel)",
   "language": "python",
   "name": "python3"
  },
  "language_info": {
   "codemirror_mode": {
    "name": "ipython",
    "version": 3
   },
   "file_extension": ".py",
   "mimetype": "text/x-python",
   "name": "python",
   "nbconvert_exporter": "python",
   "pygments_lexer": "ipython3",
   "version": "3.10.9"
  }
 },
 "nbformat": 4,
 "nbformat_minor": 5
}
