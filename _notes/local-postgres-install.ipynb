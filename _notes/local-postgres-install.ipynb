{
 "cells": [
  {
   "attachments": {},
   "cell_type": "markdown",
   "id": "cf596283",
   "metadata": {},
   "source": [
    "https://gist.github.com/gwangjinkim/f13bf596fefa7db7d31c22efd1627c7a"
   ]
  },
  {
   "cell_type": "code",
   "execution_count": 3,
   "id": "5b0c78bc-c626-499c-b3ba-c38d4c4225ef",
   "metadata": {},
   "outputs": [],
   "source": [
    "# %%sh\n",
    "# mamba install -y -c conda-forge postgresql"
   ]
  },
  {
   "cell_type": "code",
   "execution_count": 4,
   "id": "6e9fc4f6-e9f4-41e5-9532-34c63b23e191",
   "metadata": {},
   "outputs": [
    {
     "name": "stdout",
     "output_type": "stream",
     "text": [
      "The files belonging to this database system will be owned by user \"jovyan\".\n",
      "This user must also own the server process.\n",
      "\n",
      "The database cluster will be initialized with locale \"en_US.UTF-8\".\n",
      "The default database encoding has accordingly been set to \"UTF8\".\n",
      "The default text search configuration will be set to \"english\".\n",
      "\n",
      "Data page checksums are disabled.\n",
      "\n",
      "creating directory dbcluster ... ok\n",
      "creating subdirectories ... ok\n",
      "selecting dynamic shared memory implementation ... posix\n",
      "selecting default max_connections ... 100\n",
      "selecting default shared_buffers ... 128MB\n",
      "selecting default time zone ... UTC\n",
      "creating configuration files ... ok\n",
      "running bootstrap script ... ok\n",
      "performing post-bootstrap initialization ... ok\n",
      "syncing data to disk ... ok\n",
      "\n",
      "\n",
      "Success. You can now start the database server using:\n",
      "\n",
      "    pg_ctl -D dbcluster -l logfile start\n",
      "\n"
     ]
    },
    {
     "name": "stderr",
     "output_type": "stream",
     "text": [
      "initdb: warning: enabling \"trust\" authentication for local connections\n",
      "initdb: hint: You can change this by editing pg_hba.conf or using the option -A, or --auth-local and --auth-host, the next time you run initdb.\n"
     ]
    },
    {
     "name": "stdout",
     "output_type": "stream",
     "text": [
      "waiting for server to start.... done\n",
      "server started\n"
     ]
    }
   ],
   "source": [
    "%%sh\n",
    "initdb -D dbcluster\n",
    "pg_ctl -D dbcluster -l logfile start"
   ]
  },
  {
   "cell_type": "code",
   "execution_count": 6,
   "id": "2c059021-5dd5-4287-82e3-1ba885fa4067",
   "metadata": {},
   "outputs": [],
   "source": [
    "%%sh\n",
    "createuser myuser --no-password"
   ]
  },
  {
   "cell_type": "code",
   "execution_count": 12,
   "id": "bc6b8ffc-1595-493e-bfec-baa6802c8249",
   "metadata": {},
   "outputs": [],
   "source": [
    "%%sh\n",
    "createdb --owner=myuser mydb"
   ]
  },
  {
   "cell_type": "code",
   "execution_count": 8,
   "id": "a4facdf0-766a-4b47-b1fd-0de8c6ea95f8",
   "metadata": {},
   "outputs": [
    {
     "name": "stdout",
     "output_type": "stream",
     "text": [
      "\n",
      "                  __    __    __    __\n",
      "                 /  \\  /  \\  /  \\  /  \\\n",
      "                /    \\/    \\/    \\/    \\\n",
      "███████████████/  /██/  /██/  /██/  /████████████████████████\n",
      "              /  / \\   / \\   / \\   / \\  \\____\n",
      "             /  /   \\_/   \\_/   \\_/   \\    o \\__,\n",
      "            / _/                       \\_____/  `\n",
      "            |/\n",
      "        ███╗   ███╗ █████╗ ███╗   ███╗██████╗  █████╗\n",
      "        ████╗ ████║██╔══██╗████╗ ████║██╔══██╗██╔══██╗\n",
      "        ██╔████╔██║███████║██╔████╔██║██████╔╝███████║\n",
      "        ██║╚██╔╝██║██╔══██║██║╚██╔╝██║██╔══██╗██╔══██║\n",
      "        ██║ ╚═╝ ██║██║  ██║██║ ╚═╝ ██║██████╔╝██║  ██║\n",
      "        ╚═╝     ╚═╝╚═╝  ╚═╝╚═╝     ╚═╝╚═════╝ ╚═╝  ╚═╝\n",
      "\n",
      "        mamba (0.19.1) supported by @QuantStack\n",
      "\n",
      "        GitHub:  https://github.com/mamba-org/mamba\n",
      "        Twitter: https://twitter.com/QuantStack\n",
      "\n",
      "█████████████████████████████████████████████████████████████\n",
      "\n",
      "\n",
      "Looking for: ['psycopg2']\n",
      "\n",
      "conda-forge/linux-64     Using cache\n",
      "conda-forge/noarch       Using cache\n",
      "pkgs/main/linux-64        \n",
      "pkgs/r/linux-64           \n",
      "pkgs/r/noarch             \n",
      "pkgs/main/noarch          \n",
      "\n",
      "Pinned packages:\n",
      "  - python 3.10.*\n",
      "\n",
      "\n",
      "Transaction\n",
      "\n",
      "  Prefix: /srv/conda/envs/notebook\n",
      "\n",
      "  Updating specs:\n",
      "\n",
      "   - psycopg2\n",
      "   - ca-certificates\n",
      "   - certifi\n",
      "   - openssl\n",
      "\n",
      "\n",
      "  Package     Version  Build            Channel                    Size\n",
      "─────────────────────────────────────────────────────────────────────────\n",
      "  Install:\n",
      "─────────────────────────────────────────────────────────────────────────\n",
      "\n",
      "  + psycopg2    2.9.3  py310h416cc33_2  conda-forge/linux-64     171 KB\n",
      "\n",
      "  Summary:\n",
      "\n",
      "  Install: 1 packages\n",
      "\n",
      "  Total download: 171 KB\n",
      "\n",
      "─────────────────────────────────────────────────────────────────────────\n",
      "\n",
      "Finished psycopg2                             (00m:00s)             171 KB    695 KB/s\n",
      "Preparing transaction: ...working... done\n",
      "Verifying transaction: ...working... done\n",
      "Executing transaction: ...working... done\n"
     ]
    }
   ],
   "source": [
    "%%sh\n",
    "mamba install -c conda-forge psycopg2 -y"
   ]
  },
  {
   "cell_type": "code",
   "execution_count": 17,
   "id": "adbfbacb-8327-4f4c-94d1-725d37b4d888",
   "metadata": {},
   "outputs": [],
   "source": [
    "import psycopg2\n",
    "\n",
    "psycopg2.connect(database=\"mydb\", user=\"myuser\").close()"
   ]
  },
  {
   "cell_type": "code",
   "execution_count": 18,
   "id": "429c17d8-55d2-4ab5-90e7-d7888aadb813",
   "metadata": {},
   "outputs": [
    {
     "name": "stdout",
     "output_type": "stream",
     "text": [
      "\u001b[33mThere's a new jupysql version available (0.5.6), you're running 0.5.7.dev0. To upgrade: pip install jupysql --upgrade\u001b[0m\n"
     ]
    }
   ],
   "source": [
    "%load_ext sql"
   ]
  },
  {
   "cell_type": "code",
   "execution_count": 20,
   "id": "6c45ee0f-9dd4-4477-bf54-19e347ba3c86",
   "metadata": {},
   "outputs": [],
   "source": [
    "%sql postgresql://myuser@localhost/mydb"
   ]
  },
  {
   "cell_type": "code",
   "execution_count": 21,
   "id": "3b8bf593-0600-478c-abff-85c25f9a9a76",
   "metadata": {},
   "outputs": [
    {
     "name": "stdout",
     "output_type": "stream",
     "text": [
      "*  postgresql://myuser@localhost/mydb\n",
      "(psycopg2.errors.UndefinedTable) relation \"stuff\" does not exist\n",
      "LINE 1: select * from stuff\n",
      "                      ^\n",
      "\n",
      "[SQL: select * from stuff]\n",
      "(Background on this error at: https://sqlalche.me/e/14/f405)\n"
     ]
    }
   ],
   "source": [
    "%%sql\n",
    "select * from stuff"
   ]
  },
  {
   "cell_type": "code",
   "execution_count": 22,
   "id": "c9eaf835-c257-4169-a8d0-74cdc72580fb",
   "metadata": {},
   "outputs": [],
   "source": [
    "%config SqlMagic.autocommit=True"
   ]
  },
  {
   "cell_type": "code",
   "execution_count": 23,
   "id": "49ee0ca0-28eb-4914-8f02-e32c70424039",
   "metadata": {},
   "outputs": [
    {
     "name": "stdout",
     "output_type": "stream",
     "text": [
      "*  postgresql://myuser@localhost/mydb\n",
      "(psycopg2.errors.ActiveSqlTransaction) CREATE DATABASE cannot run inside a transaction block\n",
      "\n",
      "[SQL: CREATE DATABASE new_db]\n",
      "(Background on this error at: https://sqlalche.me/e/14/2j85)\n"
     ]
    }
   ],
   "source": [
    "%sql CREATE DATABASE new_db"
   ]
  },
  {
   "cell_type": "code",
   "execution_count": null,
   "id": "f8bd82c7-265d-444b-a6df-61b83b10b09d",
   "metadata": {},
   "outputs": [],
   "source": []
  }
 ],
 "metadata": {
  "kernelspec": {
   "display_name": "tmp",
   "language": "python",
   "name": "python3"
  },
  "language_info": {
   "codemirror_mode": {
    "name": "ipython",
    "version": 3
   },
   "file_extension": ".py",
   "mimetype": "text/x-python",
   "name": "python",
   "nbconvert_exporter": "python",
   "pygments_lexer": "ipython3",
   "version": "3.10.9"
  },
  "vscode": {
   "interpreter": {
    "hash": "46c971b77e22274ba6548c428fd84c7569bb37fa6f63feaf14ef17dedf8f7cae"
   }
  }
 },
 "nbformat": 4,
 "nbformat_minor": 5
}
